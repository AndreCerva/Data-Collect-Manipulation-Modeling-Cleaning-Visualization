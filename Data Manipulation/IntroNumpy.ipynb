{
 "cells": [
  {
   "cell_type": "markdown",
   "metadata": {},
   "source": [
    "## Numpy arrays \n",
    "\n",
    "Las listas de Python son elementos fundamentales y muy útiles pero hay ciertas operaciones que no podemos realizar con ellas.\n",
    "\n",
    "Los numpy arrays son conocidos por ser estructuras de datos muy fáciles de emplear al almacenar datos dentro de Python."
   ]
  },
  {
   "cell_type": "code",
   "execution_count": 2,
   "metadata": {},
   "outputs": [
    {
     "data": {
      "text/plain": [
       "45"
      ]
     },
     "execution_count": 2,
     "metadata": {},
     "output_type": "execute_result"
    }
   ],
   "source": [
    "import numpy as np\n",
    "# Definimos un vector\n",
    "x = np.array([1, 2, 3, 4, 5])\n",
    "# Y una matriz\n",
    "m = np.array([[1, 2, 3],[4, 5, 6,], [7, 8, 9]])\n",
    "# Realizar la sumatoria de los valores en un vector o matriz \n",
    "m.sum()\n",
    "# Realizar la multiplicacion de todos los valores en un vector o matriz\n",
    "m.prod()"
   ]
  },
  {
   "cell_type": "markdown",
   "metadata": {},
   "source": [
    "Ahora, calcular la media aritmetica del vector x"
   ]
  },
  {
   "cell_type": "code",
   "execution_count": 4,
   "metadata": {},
   "outputs": [
    {
     "name": "stdout",
     "output_type": "stream",
     "text": [
      "El valor de la media es: 3.0 \n",
      "\n"
     ]
    }
   ],
   "source": [
    "print(f\"El valor de la media es: {x.mean()} \\n\")\n"
   ]
  },
  {
   "cell_type": "markdown",
   "metadata": {},
   "source": [
    "Ahora implementemos algo conocido\n",
    "como la norma Frobenius (Euclidean norm, norma de un vector, distancia entre dos puntos):\n",
    "$$\n",
    "\\Vert m \\Vert_F = \\left(\n",
    "    \\sum_{i,j=1}^n m_{ij}^2\n",
    "    \\right)^{1/2}\n",
    "$$"
   ]
  },
  {
   "cell_type": "code",
   "execution_count": 6,
   "metadata": {},
   "outputs": [
    {
     "name": "stdout",
     "output_type": "stream",
     "text": [
      "La norma Frobenius que encontraste es 7.4162, y esta debe de ser 16.8819\n"
     ]
    }
   ],
   "source": [
    "# Calcula la NORMA DE FROBENIUS y guardala en la variable f_norm\n",
    "f_norm = 0\n",
    "\n",
    "f_norm=np.sqrt(np.sum(x**2))\n",
    "\n",
    "print(f'La norma Frobenius que encontraste es {round(f_norm, 4)}, y esta debe de ser 16.8819')"
   ]
  },
  {
   "cell_type": "markdown",
   "metadata": {},
   "source": [
    " implementemos la desviación estándar:\n",
    "$$\n",
    "\\sqrt{\\frac{1}{n-1}\\sum_{i=1}^n (x_i - \\bar{x})^2}\n",
    "$$"
   ]
  },
  {
   "cell_type": "code",
   "execution_count": 9,
   "metadata": {},
   "outputs": [
    {
     "name": "stdout",
     "output_type": "stream",
     "text": [
      "Has encontrado que la desviacion estandar es [5.56776436 5.52268051 5.50757055 5.5        5.49545267], y justo esta debia de ser 1.5811\n"
     ]
    }
   ],
   "source": [
    "# Calcula la DESVIACION ESTANDAR y guardala en la variable 'sd'\n",
    "sd = 0\n",
    "sd=np.sqrt((1/x-1*np.sum(x-x.mean()**2)))\n",
    "print(f'Has encontrado que la desviacion estandar es {sd}, y justo esta debia de ser 1.5811')"
   ]
  }
 ],
 "metadata": {
  "interpreter": {
   "hash": "ad2bdc8ecc057115af97d19610ffacc2b4e99fae6737bb82f5d7fb13d2f2c186"
  },
  "kernelspec": {
   "display_name": "Python 3.7.3 ('base')",
   "language": "python",
   "name": "python3"
  },
  "language_info": {
   "codemirror_mode": {
    "name": "ipython",
    "version": 3
   },
   "file_extension": ".py",
   "mimetype": "text/x-python",
   "name": "python",
   "nbconvert_exporter": "python",
   "pygments_lexer": "ipython3",
   "version": "3.7.3"
  },
  "orig_nbformat": 4
 },
 "nbformat": 4,
 "nbformat_minor": 2
}
